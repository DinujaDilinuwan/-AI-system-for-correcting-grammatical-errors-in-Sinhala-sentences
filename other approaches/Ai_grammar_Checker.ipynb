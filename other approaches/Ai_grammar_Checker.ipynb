{
  "nbformat": 4,
  "nbformat_minor": 0,
  "metadata": {
    "colab": {
      "provenance": []
    },
    "kernelspec": {
      "name": "python3",
      "display_name": "Python 3"
    },
    "language_info": {
      "name": "python"
    }
  },
  "cells": [
    {
      "cell_type": "code",
      "execution_count": 3,
      "metadata": {
        "id": "6atrxh-bCcT-"
      },
      "outputs": [],
      "source": [
        "import numpy as np\n",
        "from collections import defaultdict\n",
        "from itertools import permutations\n",
        "from typing import List\n",
        "\n",
        "class NgramWordOrderCorrector:\n",
        "    def __init__(self):\n",
        "        self.trigram_counts = defaultdict(int)\n",
        "        self.bigram_counts = defaultdict(int)\n",
        "\n",
        "    def train(self, sentences: List[str]):\n",
        "        \"\"\"Train on correct Sinhala sentences.\"\"\"\n",
        "        for sentence in sentences:\n",
        "            words = ['<s>', '<s>'] + sentence.split() + ['</s>']\n",
        "            for i in range(len(words) - 2):\n",
        "                self.trigram_counts[tuple(words[i:i + 3])] += 1\n",
        "                self.bigram_counts[tuple(words[i:i + 2])] += 1\n",
        "\n",
        "    def correct_word_order(self, sentence: str) -> str:\n",
        "        words = sentence.split()\n",
        "        best_order = words\n",
        "        max_score = self._calculate_score(words)\n",
        "\n",
        "        for perm in self._get_valid_permutations(words):\n",
        "            perm_list = list(perm)\n",
        "            score = self._calculate_score(perm_list)\n",
        "            if score > max_score:\n",
        "                max_score = score\n",
        "                best_order = perm_list\n",
        "\n",
        "        return ' '.join(best_order)\n",
        "\n",
        "    def _calculate_score(self, words: List[str]) -> int:\n",
        "        words = ['<s>', '<s>'] + words + ['</s>']\n",
        "        score = 0\n",
        "        for i in range(len(words) - 2):\n",
        "            trigram = tuple(words[i:i + 3])\n",
        "            score += self.trigram_counts[trigram]\n",
        "        return score\n",
        "\n",
        "    def _get_valid_permutations(self, words: List[str]):\n",
        "        \"\"\"Generates permutations of the sentence (constrained for short inputs).\"\"\"\n",
        "        if len(words) > 7:\n",
        "            return [words]\n",
        "        return permutations(words)\n"
      ]
    },
    {
      "cell_type": "code",
      "source": [
        "if __name__ == \"__main__\":\n",
        "    print(\"=== N-gram Word Order Correction ===\")\n",
        "    corrector = NgramWordOrderCorrector()\n",
        "    corrector.train([\"මම පොත කියවමි\", \"අපි පාසල් යමු\"])\n",
        "    result = corrector.correct_word_order(\"පොත මම කියවමි\")\n",
        "    print(f\"Input Sentence: 'පොත මම කියවමි'\")\n",
        "    print(f\"Corrected Sentence: '{result}'\\n\")\n"
      ],
      "metadata": {
        "colab": {
          "base_uri": "https://localhost:8080/"
        },
        "id": "12Qu77stEsMl",
        "outputId": "02fb1502-0a7e-4286-85d8-ef881ee7e59a"
      },
      "execution_count": 4,
      "outputs": [
        {
          "output_type": "stream",
          "name": "stdout",
          "text": [
            "=== N-gram Word Order Correction ===\n",
            "Input Sentence: 'පොත මම කියවමි'\n",
            "Corrected Sentence: 'මම පොත කියවමි'\n",
            "\n"
          ]
        }
      ]
    },
    {
      "cell_type": "code",
      "source": [
        "import re\n",
        "from typing import Dict, List\n",
        "\n",
        "class POSBasedAgreementChecker:\n",
        "    def __init__(self):\n",
        "\n",
        "        self.pos_patterns = {\n",
        "            'subject': r'[මඅඔඇ][a-zA-Z\\u0D80-\\u0DFF]+',\n",
        "            'verb': r'[a-zA-Z\\u0D80-\\u0DFF]+[නව]වා$'\n",
        "        }\n",
        "\n",
        "\n",
        "        self.agreement_rules = {\n",
        "            'මම': {'suffix': 'මි', 'person': 'first', 'number': 'singular'},\n",
        "            'අපි': {'suffix': 'මු', 'person': 'first', 'number': 'plural'},\n",
        "            'ඔබ': {'suffix': 'යි', 'person': 'second', 'number': 'singular'},\n",
        "            'ඔබලා': {'suffix': 'මු', 'person': 'second', 'number': 'plural'},\n",
        "            'ඔහු': {'suffix': 'යි', 'person': 'third', 'number': 'singular'},\n",
        "            'ඇය': {'suffix': 'යි', 'person': 'third', 'number': 'singular'},\n",
        "            'ඔවුන්': {'suffix': 'ති', 'person': 'third', 'number': 'plural'}\n",
        "        }\n",
        "\n",
        "    def check_agreement(self, sentence: str) -> Dict:\n",
        "        \"\"\"Checks subject-verb agreement in a given Sinhala sentence.\"\"\"\n",
        "        words = sentence.split()\n",
        "        subject = None\n",
        "        verb = None\n",
        "\n",
        "        for word in words:\n",
        "            if re.match(self.pos_patterns['subject'], word):\n",
        "                subject = word\n",
        "            elif re.match(self.pos_patterns['verb'], word):\n",
        "                verb = word\n",
        "\n",
        "        if not subject or not verb:\n",
        "            return {'is_correct': False, 'error': 'Missing subject or verb'}\n",
        "\n",
        "        if subject in self.agreement_rules:\n",
        "            expected_suffix = self.agreement_rules[subject]['suffix']\n",
        "            if not verb.endswith(expected_suffix):\n",
        "                base_verb = self._get_verb_base(verb)\n",
        "                corrected_verb = base_verb + expected_suffix\n",
        "                return {\n",
        "                    'is_correct': False,\n",
        "                    'correction': corrected_verb,\n",
        "                    'error': 'Subject-verb agreement mismatch'\n",
        "                }\n",
        "\n",
        "        return {'is_correct': True}\n",
        "\n",
        "    def _get_verb_base(self, verb: str) -> str:\n",
        "        \"\"\"Extract the base of the verb by removing common suffixes.\"\"\"\n",
        "        for ending in ['නවා', 'යි', 'මි', 'මු', 'ති']:\n",
        "            if verb.endswith(ending):\n",
        "                return verb[:-len(ending)]\n",
        "        return verb\n"
      ],
      "metadata": {
        "id": "-POh8oIvFS5s"
      },
      "execution_count": 5,
      "outputs": []
    },
    {
      "cell_type": "code",
      "source": [
        "if __name__ == \"__main__\":\n",
        "    print(\"=== POS-Based Subject-Verb Agreement ===\")\n",
        "\n",
        "    checker = POSBasedAgreementChecker()\n",
        "    sentence1 = \"මම පොත කියවමි\"\n",
        "    result1 = checker.check_agreement(sentence1)\n",
        "    print(f\"Input Sentence: '{sentence1}'\")\n",
        "    if result1['is_correct']:\n",
        "        print(\"The sentence is correct.\\n\")\n",
        "    else:\n",
        "        print(f\"Error: {result1['error']}\")\n",
        "        if 'correction' in result1:\n",
        "            print(f\"Suggested Correction: '{result1['correction']}'\\n\")\n",
        "\n",
        "    sentence2 = \"මම යනවා\"\n",
        "    result2 = checker.check_agreement(sentence2)\n",
        "    print(f\"Input Sentence: '{sentence2}'\")\n",
        "    if result2['is_correct']:\n",
        "        print(\"The sentence is correct.\\n\")\n",
        "    else:\n",
        "        print(f\"Error: {result2['error']}\")\n",
        "        if 'correction' in result2:\n",
        "            print(f\"Suggested Correction: '{result2['correction']}'\\n\")\n"
      ],
      "metadata": {
        "colab": {
          "base_uri": "https://localhost:8080/"
        },
        "id": "tr3_ezXUFVk1",
        "outputId": "c6e7bb5b-88aa-4646-9df5-1044424e85d1"
      },
      "execution_count": 7,
      "outputs": [
        {
          "output_type": "stream",
          "name": "stdout",
          "text": [
            "=== POS-Based Subject-Verb Agreement ===\n",
            "Input Sentence: 'මම පොත කියවමි'\n",
            "Error: Missing subject or verb\n",
            "Input Sentence: 'මම යනවා'\n",
            "Error: Subject-verb agreement mismatch\n",
            "Suggested Correction: 'යමි'\n",
            "\n"
          ]
        }
      ]
    }
  ]
}